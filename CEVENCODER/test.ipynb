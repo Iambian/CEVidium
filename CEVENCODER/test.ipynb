{
 "cells": [
  {
   "cell_type": "code",
   "execution_count": 25,
   "metadata": {},
   "outputs": [
    {
     "name": "stdout",
     "output_type": "stream",
     "text": [
      "file caches/GtKSwIy.jpeg opened. Width: 460, height: 576\n"
     ]
    }
   ],
   "source": [
    "import os, sys, time, json, contextlib, io\n",
    "\n",
    "from m.fileio import *\n",
    "from m.ui import *\n",
    "from m.util import *\n",
    "\n",
    "import ffmpeg\n",
    "\n",
    "testfile = 'caches/fdumpster.mp4'\n",
    "testfile2 = 'caches/tallcat.gif'\n",
    "testfile3 = 'caches/nestest.nes'\n",
    "testfile4 = 'caches/GtKSwIy.jpeg'\n",
    "\n",
    "class MediaMetadata(object):\n",
    "    def __init__(self, filepath):\n",
    "        self.e = None\n",
    "        self.filepath = filepath\n",
    "        self.width = None\n",
    "        self.height = None\n",
    "        self.probedata = None\n",
    "        self.stderr = None\n",
    "        try:\n",
    "            if not os.path.exists(filepath):\n",
    "                raise IOError(f\"{filepath} not found.\")\n",
    "            meta = ffmpeg.probe(filepath)\n",
    "            for stream in meta['streams']:\n",
    "                if stream['codec_type'] == 'video':\n",
    "                    self.width = stream['width']\n",
    "                    self.height = stream['height']\n",
    "                    self.probedata = meta\n",
    "                    return\n",
    "            else:\n",
    "                raise(ValueError(f\"{filepath} contains no recognizeable video.\"))\n",
    "            pass\n",
    "        except Exception as e:\n",
    "            self.e = e\n",
    "            if hasattr(e, \"stderr\"):\n",
    "                self.stderr = e.stderr\n",
    "\n",
    "\n",
    "d = MediaMetadata(testfile4)\n",
    "errclass = d.e.__class__\n",
    "if issubclass(errclass, Exception):\n",
    "    print(d.e)\n",
    "    if d.stderr:\n",
    "        print(d.stderr)\n",
    "else:\n",
    "    print(f\"file {d.filepath} opened. Width: {d.width}, height: {d.height}\")\n",
    "\n",
    "\n",
    "\n",
    "\n"
   ]
  }
 ],
 "metadata": {
  "kernelspec": {
   "display_name": "Python 3",
   "language": "python",
   "name": "python3"
  },
  "language_info": {
   "codemirror_mode": {
    "name": "ipython",
    "version": 3
   },
   "file_extension": ".py",
   "mimetype": "text/x-python",
   "name": "python",
   "nbconvert_exporter": "python",
   "pygments_lexer": "ipython3",
   "version": "3.10.11"
  }
 },
 "nbformat": 4,
 "nbformat_minor": 2
}
